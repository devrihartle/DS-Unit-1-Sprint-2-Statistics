{
  "nbformat": 4,
  "nbformat_minor": 0,
  "metadata": {
    "colab": {
      "name": "Unit 1 Sprint 2 Module 2 assignment",
      "provenance": [],
      "collapsed_sections": [],
      "include_colab_link": true
    },
    "kernelspec": {
      "name": "python3",
      "display_name": "Python 3"
    }
  },
  "cells": [
    {
      "cell_type": "markdown",
      "metadata": {
        "id": "view-in-github",
        "colab_type": "text"
      },
      "source": [
        "<a href=\"https://colab.research.google.com/github/devrihartle/DS-Unit-1-Sprint-2-Statistics/blob/master/Unit_1_Sprint_2_Module_2_assignment.ipynb\" target=\"_parent\"><img src=\"https://colab.research.google.com/assets/colab-badge.svg\" alt=\"Open In Colab\"/></a>"
      ]
    },
    {
      "cell_type": "markdown",
      "metadata": {
        "id": "11OzdxWTM7UR"
      },
      "source": [
        "# Lambda School Data Science - Unit 1 Sprint 2 Module 2\n",
        "\n",
        "---\n",
        "\n",
        "## Assignment: Hypothesis Testing (chi-square tests)\n"
      ]
    },
    {
      "cell_type": "markdown",
      "metadata": {
        "id": "ceuawtROodfW"
      },
      "source": [
        "# Objectives\n",
        "\n",
        "* Objective 01 - explain the purpose of a chi-square test and identify applications\n",
        "* Objective 02 - set up a chi-square test for independence on two categorical variables\n",
        "* Objective 03 - use a chi-square test p-value to draw the correct conclusion about the null and alternative hypothesis\n",
        "* Objective 04 - explain how to compare the null hypothesis and sample and how randomness in the sampling process affect the result\n",
        "\n"
      ]
    },
    {
      "cell_type": "markdown",
      "metadata": {
        "id": "Q6x9gnZ4mY84"
      },
      "source": [
        "\n",
        "\n",
        "### Dataset description:\n",
        "\n",
        "Slasher movies thrill audiences by portraying a lone antagonist (typically male) who attacks innocent victims with extreme violence and without apparent motive. However, this exciting (if gory) subgenre of horror film is criticized by those who view the violence as being used to “punish” female characters who engage in sexual activity during the film. \n",
        "\n",
        "To test this claim, study authors randomly sampled 50 North American slasher films released from 1960 to 2009 and coded the 485 characters appearing in them as being male or female, involved in sexual activity or not, and if they survived the film or not. \n",
        "\n",
        "The data appears in the Slasher.csv dataset. In this project, we are going to answer a slightly simpler question: Are female characters in slasher films more likely to be \"murdered\" than male characters?\n",
        "\n",
        "Source: A. Welsh (2010). \"On the Perils of Living Dangerously in the Slasher Horror Film: Gender Differences in the Association Between Sexual Activity and Survival,\" Sex Roles, Vol. 62 pp. 762-773\n",
        "\n",
        "You can find the Slasher.csv file here:\n",
        "\n",
        "<https://raw.githubusercontent.com/Chelsea-Myers/Lambda-Intro/master/Slasher.csv>\n",
        "\n"
      ]
    },
    {
      "cell_type": "markdown",
      "metadata": {
        "id": "QnqpG9fOaUy-"
      },
      "source": [
        "### 1) Load the Slasher.csv dataset in a new dataframe. \n",
        "\n",
        "* Call your DataFrame `slasher_df`\n",
        "* set `skipinitialspace=True`\n",
        "* set `header=0`\n"
      ]
    },
    {
      "cell_type": "code",
      "metadata": {
        "id": "UQwvrhn7m3Mn",
        "outputId": "f9378902-d120-436e-b1a4-61663aa99cc1",
        "colab": {
          "base_uri": "https://localhost:8080/",
          "height": 204
        }
      },
      "source": [
        "# Imports (we won't provide these for every assignment!)\n",
        "import pandas as pd\n",
        "import numpy as np\n",
        "\n",
        "# Load the dataset\n",
        "\n",
        "### your code here ###\n",
        "slasher_df= pd.read_csv('https://raw.githubusercontent.com/Chelsea-Myers/Lambda-Intro/master/Slasher.csv', skipinitialspace=True, header=0)\n",
        "slasher_df.head()"
      ],
      "execution_count": 30,
      "outputs": [
        {
          "output_type": "execute_result",
          "data": {
            "text/html": [
              "<div>\n",
              "<style scoped>\n",
              "    .dataframe tbody tr th:only-of-type {\n",
              "        vertical-align: middle;\n",
              "    }\n",
              "\n",
              "    .dataframe tbody tr th {\n",
              "        vertical-align: top;\n",
              "    }\n",
              "\n",
              "    .dataframe thead th {\n",
              "        text-align: right;\n",
              "    }\n",
              "</style>\n",
              "<table border=\"1\" class=\"dataframe\">\n",
              "  <thead>\n",
              "    <tr style=\"text-align: right;\">\n",
              "      <th></th>\n",
              "      <th>ID</th>\n",
              "      <th>Gender</th>\n",
              "      <th>Activity</th>\n",
              "      <th>Survival</th>\n",
              "    </tr>\n",
              "  </thead>\n",
              "  <tbody>\n",
              "    <tr>\n",
              "      <th>0</th>\n",
              "      <td>1</td>\n",
              "      <td>1</td>\n",
              "      <td>1</td>\n",
              "      <td>1</td>\n",
              "    </tr>\n",
              "    <tr>\n",
              "      <th>1</th>\n",
              "      <td>2</td>\n",
              "      <td>1</td>\n",
              "      <td>1</td>\n",
              "      <td>1</td>\n",
              "    </tr>\n",
              "    <tr>\n",
              "      <th>2</th>\n",
              "      <td>3</td>\n",
              "      <td>1</td>\n",
              "      <td>1</td>\n",
              "      <td>1</td>\n",
              "    </tr>\n",
              "    <tr>\n",
              "      <th>3</th>\n",
              "      <td>4</td>\n",
              "      <td>1</td>\n",
              "      <td>1</td>\n",
              "      <td>1</td>\n",
              "    </tr>\n",
              "    <tr>\n",
              "      <th>4</th>\n",
              "      <td>5</td>\n",
              "      <td>1</td>\n",
              "      <td>1</td>\n",
              "      <td>1</td>\n",
              "    </tr>\n",
              "  </tbody>\n",
              "</table>\n",
              "</div>"
            ],
            "text/plain": [
              "   ID  Gender  Activity  Survival\n",
              "0   1       1         1         1\n",
              "1   2       1         1         1\n",
              "2   3       1         1         1\n",
              "3   4       1         1         1\n",
              "4   5       1         1         1"
            ]
          },
          "metadata": {
            "tags": []
          },
          "execution_count": 30
        }
      ]
    },
    {
      "cell_type": "markdown",
      "metadata": {
        "id": "OoCPEb_uKjHU"
      },
      "source": [
        "### Answer checks\n",
        "\n",
        "We're going to continue using the assert statements we used in the Module 1 Project (assignment) to check our work. The cells with the `assert` statements can be skipped or deleted but you should try to leave them in. Remember - it's a way to check your work as you go through this Module Project and also get some feedback if you have an error."
      ]
    },
    {
      "cell_type": "markdown",
      "metadata": {
        "id": "llP1_XV0ak8C"
      },
      "source": [
        "###2) Display the top 5 rows of the dataframe to take a look at the variable names and values."
      ]
    },
    {
      "cell_type": "code",
      "metadata": {
        "id": "Ws10E-kqayJZ",
        "outputId": "64f0fa02-b178-485a-934b-62a2f62bcf6c",
        "colab": {
          "base_uri": "https://localhost:8080/",
          "height": 204
        }
      },
      "source": [
        "### your code here ###\n",
        "slasher_df.head(5)"
      ],
      "execution_count": 31,
      "outputs": [
        {
          "output_type": "execute_result",
          "data": {
            "text/html": [
              "<div>\n",
              "<style scoped>\n",
              "    .dataframe tbody tr th:only-of-type {\n",
              "        vertical-align: middle;\n",
              "    }\n",
              "\n",
              "    .dataframe tbody tr th {\n",
              "        vertical-align: top;\n",
              "    }\n",
              "\n",
              "    .dataframe thead th {\n",
              "        text-align: right;\n",
              "    }\n",
              "</style>\n",
              "<table border=\"1\" class=\"dataframe\">\n",
              "  <thead>\n",
              "    <tr style=\"text-align: right;\">\n",
              "      <th></th>\n",
              "      <th>ID</th>\n",
              "      <th>Gender</th>\n",
              "      <th>Activity</th>\n",
              "      <th>Survival</th>\n",
              "    </tr>\n",
              "  </thead>\n",
              "  <tbody>\n",
              "    <tr>\n",
              "      <th>0</th>\n",
              "      <td>1</td>\n",
              "      <td>1</td>\n",
              "      <td>1</td>\n",
              "      <td>1</td>\n",
              "    </tr>\n",
              "    <tr>\n",
              "      <th>1</th>\n",
              "      <td>2</td>\n",
              "      <td>1</td>\n",
              "      <td>1</td>\n",
              "      <td>1</td>\n",
              "    </tr>\n",
              "    <tr>\n",
              "      <th>2</th>\n",
              "      <td>3</td>\n",
              "      <td>1</td>\n",
              "      <td>1</td>\n",
              "      <td>1</td>\n",
              "    </tr>\n",
              "    <tr>\n",
              "      <th>3</th>\n",
              "      <td>4</td>\n",
              "      <td>1</td>\n",
              "      <td>1</td>\n",
              "      <td>1</td>\n",
              "    </tr>\n",
              "    <tr>\n",
              "      <th>4</th>\n",
              "      <td>5</td>\n",
              "      <td>1</td>\n",
              "      <td>1</td>\n",
              "      <td>1</td>\n",
              "    </tr>\n",
              "  </tbody>\n",
              "</table>\n",
              "</div>"
            ],
            "text/plain": [
              "   ID  Gender  Activity  Survival\n",
              "0   1       1         1         1\n",
              "1   2       1         1         1\n",
              "2   3       1         1         1\n",
              "3   4       1         1         1\n",
              "4   5       1         1         1"
            ]
          },
          "metadata": {
            "tags": []
          },
          "execution_count": 31
        }
      ]
    },
    {
      "cell_type": "code",
      "metadata": {
        "id": "hOcou0czLF6l",
        "outputId": "c771de8b-3b40-48ae-da3e-dda016738bfe",
        "colab": {
          "base_uri": "https://localhost:8080/"
        }
      },
      "source": [
        "# This is an ANSWER CHECK cell.\n",
        "# Don't alter this cell if you want accurate feedback\n",
        "#------------------------------------------------------------------------------#\n",
        "\n",
        "# check if the DataFrame was created\n",
        "assert not slasher_df.empty, 'Make sure the df name is accurate and you loaded the correct URL.'\n",
        "# check the shape of the DataFrame\n",
        "assert slasher_df.shape == (485, 4), 'Is your data loaded with the correct argument?'\n",
        "print('Correct! Continue to the next question')"
      ],
      "execution_count": 32,
      "outputs": [
        {
          "output_type": "stream",
          "text": [
            "Correct! Continue to the next question\n"
          ],
          "name": "stdout"
        }
      ]
    },
    {
      "cell_type": "markdown",
      "metadata": {
        "id": "PAHPjE4Ea52w"
      },
      "source": [
        "In this dataset, the variable codes are:\n",
        "\n",
        "* ID = Character ID\n",
        "* Gender = Character gender.  0 = male, 1 = female\n",
        "* Activity = Character was portrayed as engaged in sexual activity.  0 = no, 1 = yes\n",
        "* Survival = Character survival in the film. 0 = did not survive, 1 = survived"
      ]
    },
    {
      "cell_type": "markdown",
      "metadata": {
        "id": "pabzhfvLbdFZ"
      },
      "source": [
        "###3) Calculate the frequency and relative frequency of male and female characters in this set of slasher films.  Describe your results in a sentence or two and use your results to answer the question below."
      ]
    },
    {
      "cell_type": "code",
      "metadata": {
        "id": "9gIQaRsQbt77",
        "outputId": "95d2dbda-4831-46b5-b961-1bc2069c3773",
        "colab": {
          "base_uri": "https://localhost:8080/",
          "height": 210
        }
      },
      "source": [
        "### your code here ###\n",
        "genders = pd.crosstab(index= slasher_df['Gender'], columns='count')\n",
        "print(genders)\n",
        "(genders/genders.sum())*100\n",
        "#There were more male than female characters. "
      ],
      "execution_count": 33,
      "outputs": [
        {
          "output_type": "stream",
          "text": [
            "col_0   count\n",
            "Gender       \n",
            "0         263\n",
            "1         222\n"
          ],
          "name": "stdout"
        },
        {
          "output_type": "execute_result",
          "data": {
            "text/html": [
              "<div>\n",
              "<style scoped>\n",
              "    .dataframe tbody tr th:only-of-type {\n",
              "        vertical-align: middle;\n",
              "    }\n",
              "\n",
              "    .dataframe tbody tr th {\n",
              "        vertical-align: top;\n",
              "    }\n",
              "\n",
              "    .dataframe thead th {\n",
              "        text-align: right;\n",
              "    }\n",
              "</style>\n",
              "<table border=\"1\" class=\"dataframe\">\n",
              "  <thead>\n",
              "    <tr style=\"text-align: right;\">\n",
              "      <th>col_0</th>\n",
              "      <th>count</th>\n",
              "    </tr>\n",
              "    <tr>\n",
              "      <th>Gender</th>\n",
              "      <th></th>\n",
              "    </tr>\n",
              "  </thead>\n",
              "  <tbody>\n",
              "    <tr>\n",
              "      <th>0</th>\n",
              "      <td>54.226804</td>\n",
              "    </tr>\n",
              "    <tr>\n",
              "      <th>1</th>\n",
              "      <td>45.773196</td>\n",
              "    </tr>\n",
              "  </tbody>\n",
              "</table>\n",
              "</div>"
            ],
            "text/plain": [
              "col_0       count\n",
              "Gender           \n",
              "0       54.226804\n",
              "1       45.773196"
            ]
          },
          "metadata": {
            "tags": []
          },
          "execution_count": 33
        }
      ]
    },
    {
      "cell_type": "markdown",
      "metadata": {
        "id": "ozFYFgE8JgXn"
      },
      "source": [
        "QUIZ: What percentage of the characters are **female** (gender = 1)? Run the cell below, and enter your percentage (*rounded to the nearest whole number*). Then run the QUIZ CHECK cell.\n",
        "\n",
        "---\n",
        "\n"
      ]
    },
    {
      "cell_type": "code",
      "metadata": {
        "id": "quYGdZz5J-s7",
        "outputId": "7260c69f-6786-40c6-c8f2-3738f0035e2d",
        "colab": {
          "base_uri": "https://localhost:8080/"
        }
      },
      "source": [
        "# This is an QUIZ cell. Run the cell, enter your answer.\n",
        "# Don't alter this cell if you want accurate feedback\n",
        "#------------------------------------------------------------------------------#\n",
        "female_percent = input()"
      ],
      "execution_count": 24,
      "outputs": [
        {
          "output_type": "stream",
          "text": [
            "46\n"
          ],
          "name": "stdout"
        }
      ]
    },
    {
      "cell_type": "code",
      "metadata": {
        "id": "EKbpo1IJexVw",
        "outputId": "7e19ce16-f23f-49ef-80c6-1eb0fb20dbf9",
        "colab": {
          "base_uri": "https://localhost:8080/"
        }
      },
      "source": [
        "# QUIZ CHECK cell\n",
        "#------------------------------------------------------------------------------#\n",
        "assert female_percent == str(46), 'Double check your percentages.'\n",
        "print('Correct! Continue to the next question.')"
      ],
      "execution_count": 25,
      "outputs": [
        {
          "output_type": "stream",
          "text": [
            "Correct! Continue to the next question.\n"
          ],
          "name": "stdout"
        }
      ]
    },
    {
      "cell_type": "markdown",
      "metadata": {
        "id": "Q79IYzM7bz4j"
      },
      "source": [
        "There were more male than female characters. 46% of the characters were female."
      ]
    },
    {
      "cell_type": "markdown",
      "metadata": {
        "id": "jnfrbmCvnMM_"
      },
      "source": [
        "###4) Calculate the frequency and relative frequency of character survival in this set of slasher films.  Describe your results in a sentence or two."
      ]
    },
    {
      "cell_type": "code",
      "metadata": {
        "id": "eATj3sKHnU_c",
        "outputId": "229f967b-991b-4b39-8d3b-85fb53992fd4",
        "colab": {
          "base_uri": "https://localhost:8080/",
          "height": 142
        }
      },
      "source": [
        "### your code here ###\n",
        "\n",
        "survived=pd.crosstab(slasher_df['Survival'], columns='count')\n",
        "(survived/survived.sum())*100\n",
        "#print(survived)\n"
      ],
      "execution_count": 37,
      "outputs": [
        {
          "output_type": "execute_result",
          "data": {
            "text/html": [
              "<div>\n",
              "<style scoped>\n",
              "    .dataframe tbody tr th:only-of-type {\n",
              "        vertical-align: middle;\n",
              "    }\n",
              "\n",
              "    .dataframe tbody tr th {\n",
              "        vertical-align: top;\n",
              "    }\n",
              "\n",
              "    .dataframe thead th {\n",
              "        text-align: right;\n",
              "    }\n",
              "</style>\n",
              "<table border=\"1\" class=\"dataframe\">\n",
              "  <thead>\n",
              "    <tr style=\"text-align: right;\">\n",
              "      <th>col_0</th>\n",
              "      <th>count</th>\n",
              "    </tr>\n",
              "    <tr>\n",
              "      <th>Survival</th>\n",
              "      <th></th>\n",
              "    </tr>\n",
              "  </thead>\n",
              "  <tbody>\n",
              "    <tr>\n",
              "      <th>0</th>\n",
              "      <td>82.474227</td>\n",
              "    </tr>\n",
              "    <tr>\n",
              "      <th>1</th>\n",
              "      <td>17.525773</td>\n",
              "    </tr>\n",
              "  </tbody>\n",
              "</table>\n",
              "</div>"
            ],
            "text/plain": [
              "col_0         count\n",
              "Survival           \n",
              "0         82.474227\n",
              "1         17.525773"
            ]
          },
          "metadata": {
            "tags": []
          },
          "execution_count": 37
        }
      ]
    },
    {
      "cell_type": "markdown",
      "metadata": {
        "id": "VYiobiSMnXAT"
      },
      "source": [
        "The large majority of people died."
      ]
    },
    {
      "cell_type": "markdown",
      "metadata": {
        "id": "YzjkSGa7gyWH"
      },
      "source": [
        "QUIZ: What percentage of female characters *survived*? Run the cell below, enter your percentage (*rounded to the nearest whole number*)."
      ]
    },
    {
      "cell_type": "code",
      "metadata": {
        "id": "zI9rL96ngFSb",
        "outputId": "8a44103e-cbe0-4fc0-c02f-bf3f11914e20",
        "colab": {
          "base_uri": "https://localhost:8080/"
        }
      },
      "source": [
        "# This is an QUIZ cell. Run the cell, enter your answer.\n",
        "# Don't alter this cell if you want accurate feedback\n",
        "#------------------------------------------------------------------------------#\n",
        "female_percent_survival = input()"
      ],
      "execution_count": 38,
      "outputs": [
        {
          "output_type": "stream",
          "text": [
            "18\n"
          ],
          "name": "stdout"
        }
      ]
    },
    {
      "cell_type": "code",
      "metadata": {
        "id": "oyhLDzDAgIxK",
        "outputId": "ce63d1bc-5d24-448b-f54d-41bb26258153",
        "colab": {
          "base_uri": "https://localhost:8080/"
        }
      },
      "source": [
        "# QUIZ CHECK cell\n",
        "#------------------------------------------------------------------------------#\n",
        "assert female_percent_survival == str(18), 'Double check your percentages.'\n",
        "print('Correct! Continue to the next question.')"
      ],
      "execution_count": 39,
      "outputs": [
        {
          "output_type": "stream",
          "text": [
            "Correct! Continue to the next question.\n"
          ],
          "name": "stdout"
        }
      ]
    },
    {
      "cell_type": "markdown",
      "metadata": {
        "id": "0K1kuj8yb5BD"
      },
      "source": [
        "### 5) Calculate the joint distribution of character sex and movie survival. \n",
        "\n",
        "Hint: If you are working from the in-class examples, it will be helpful to include character sex as the index variable. \n",
        "\n",
        "Describe your results in a sentence or two."
      ]
    },
    {
      "cell_type": "code",
      "metadata": {
        "id": "lBqo9mPJcApw",
        "outputId": "271883c6-05c3-4655-dfba-056d1a64744f",
        "colab": {
          "base_uri": "https://localhost:8080/"
        }
      },
      "source": [
        "# Calculate the joint distribution\n",
        "joint = pd.crosstab(slasher_df['Gender'], slasher_df['Survival'])\n",
        "print(joint)\n",
        "### your code here ###\n"
      ],
      "execution_count": 42,
      "outputs": [
        {
          "output_type": "stream",
          "text": [
            "Survival    0   1\n",
            "Gender           \n",
            "0         228  35\n",
            "1         172  50\n"
          ],
          "name": "stdout"
        }
      ]
    },
    {
      "cell_type": "markdown",
      "metadata": {
        "id": "IRU0Hd1-wCpW"
      },
      "source": [
        "### 5b) Do the same as 5a) but **add the table margins**.  Assign this to a variable called `joint_dist_margins`."
      ]
    },
    {
      "cell_type": "code",
      "metadata": {
        "id": "PAe3sdeqoLnh",
        "outputId": "5b63546e-add4-4429-bbea-2cf081c6f5bd",
        "colab": {
          "base_uri": "https://localhost:8080/"
        }
      },
      "source": [
        "# Add the table margins to the joint distribution\n",
        "\n",
        "### your code here ###\n",
        "joint_dist_margins = pd.crosstab(slasher_df['Gender'], slasher_df['Survival'], margins=True)\n",
        "print(joint_dist_margins)"
      ],
      "execution_count": 45,
      "outputs": [
        {
          "output_type": "stream",
          "text": [
            "Survival    0   1  All\n",
            "Gender                \n",
            "0         228  35  263\n",
            "1         172  50  222\n",
            "All       400  85  485\n"
          ],
          "name": "stdout"
        }
      ]
    },
    {
      "cell_type": "code",
      "metadata": {
        "id": "iLvgeckeeL9g",
        "outputId": "cd568338-3ea3-49b3-b312-b3399ada258a",
        "colab": {
          "base_uri": "https://localhost:8080/"
        }
      },
      "source": [
        "# This is an ANSWER CHECK cell.\n",
        "# Don't alter this cell if you want accurate feedback\n",
        "#------------------------------------------------------------------------------#\n",
        "\n",
        "# check if the DataFrame was created\n",
        "assert not joint_dist_margins.empty, 'Did you create your DataFrame with the joint distribution?'\n",
        "# check the shape of the DataFrame\n",
        "assert joint_dist_margins.shape == (3, 3), 'Did you include the margins?'\n",
        "print('Correct! Continue to the next question.')"
      ],
      "execution_count": 44,
      "outputs": [
        {
          "output_type": "stream",
          "text": [
            "Correct! Continue to the next question.\n"
          ],
          "name": "stdout"
        }
      ]
    },
    {
      "cell_type": "markdown",
      "metadata": {
        "id": "63H4QMgKcDEp"
      },
      "source": [
        "The large majority of all individuals regardless of gender died."
      ]
    },
    {
      "cell_type": "markdown",
      "metadata": {
        "id": "Pf9boTsRpe9J"
      },
      "source": [
        "###6) Calculate the distribution of survival conditional on character sex.\n",
        "* assign the crosstab DataFrame to the variable `slasher_survival`\n",
        "* make sure to normalize on the \"index\"\n",
        "* multiply the resulting DataFrame by 100 to return answers as percents\n",
        "\n",
        "Hint: If you are working from the in-class examples, it will be helpful to include character sex as the index variable. \n",
        "\n",
        "Describe your results in a sentence or two in the cell below."
      ]
    },
    {
      "cell_type": "code",
      "metadata": {
        "id": "ByWE_M1RpqSy",
        "outputId": "aa85a859-82b4-4603-fe35-cbd7db3facfb",
        "colab": {
          "base_uri": "https://localhost:8080/"
        }
      },
      "source": [
        "# Create your slasher_survival DataFrame here\n",
        "slasher_survival = pd.crosstab(slasher_df['Gender'], slasher_df['Survival'], normalize='index')*100\n",
        "print(slasher_survival)\n",
        "### your code here ###\n"
      ],
      "execution_count": 46,
      "outputs": [
        {
          "output_type": "stream",
          "text": [
            "Survival          0          1\n",
            "Gender                        \n",
            "0         86.692015  13.307985\n",
            "1         77.477477  22.522523\n"
          ],
          "name": "stdout"
        }
      ]
    },
    {
      "cell_type": "code",
      "metadata": {
        "id": "t-MfaLjCnt6i",
        "outputId": "9d63ad2f-725b-41bc-8520-931637c9e9e1",
        "colab": {
          "base_uri": "https://localhost:8080/"
        }
      },
      "source": [
        "# This is an ANSWER CHECK cell.\n",
        "# Don't alter this cell if you want accurate feedback\n",
        "#------------------------------------------------------------------------------#\n",
        "\n",
        "# check if the DataFrame was created\n",
        "assert not slasher_survival.empty, 'Did you calculate the distribution?'\n",
        "# check the shape of the DataFrame\n",
        "assert round(slasher_survival[0][0]) == 87.0, 'Is your DataFrame normalized and converted to a percent?'\n",
        "print('Correct! Continue to the next question.')"
      ],
      "execution_count": 47,
      "outputs": [
        {
          "output_type": "stream",
          "text": [
            "Correct! Continue to the next question.\n"
          ],
          "name": "stdout"
        }
      ]
    },
    {
      "cell_type": "markdown",
      "metadata": {
        "id": "tdtRWqwcpquG"
      },
      "source": [
        "86% of males in this data died, and 77% of females died. Individuals were way more likely to die than survive."
      ]
    },
    {
      "cell_type": "markdown",
      "metadata": {
        "id": "ODJU68cMKJ57"
      },
      "source": [
        "###7) Identify the appropriate null and alternative hypotheses to test for a statistically significant relationship between character sex and survival. \n",
        "\n",
        "**Ho:** There is no relationship between character sex and movie survival.\n",
        "\n",
        "**Ha:**. There is a relationship between character sex and movie survival."
      ]
    },
    {
      "cell_type": "markdown",
      "metadata": {
        "id": "RXPZZuAi3ccI"
      },
      "source": [
        "### 8) Perform the chi-square test above using `stats.chi2_contingency()`. The docs for this function are found [here](https://docs.scipy.org/doc/scipy/reference/generated/scipy.stats.chi2_contingency.html).\n",
        "\n",
        "* assign the p-value to the variable `p_val`\n",
        "* assign the other variables to whatever names you prefer\n"
      ]
    },
    {
      "cell_type": "code",
      "metadata": {
        "id": "Ckcr4A4FM7cs",
        "outputId": "fba9bfc7-4631-47a2-abca-9fce4246a922",
        "colab": {
          "base_uri": "https://localhost:8080/"
        }
      },
      "source": [
        "# Perform the chi-square test\n",
        "from scipy.stats import chi2_contingency\n",
        "### your code here ###\n",
        "g, p_val, dof, expctd = chi2_contingency(pd.crosstab(slasher_df['Gender'], slasher_df['Survival']))\n",
        "print(p_val)"
      ],
      "execution_count": 49,
      "outputs": [
        {
          "output_type": "stream",
          "text": [
            "0.011104692591139975\n"
          ],
          "name": "stdout"
        }
      ]
    },
    {
      "cell_type": "code",
      "metadata": {
        "id": "rxfmQ5dhd-uU",
        "outputId": "aca0bf0e-9fec-451e-a605-0b9b149e7bef",
        "colab": {
          "base_uri": "https://localhost:8080/"
        }
      },
      "source": [
        "# This is an ANSWER CHECK cell.\n",
        "# Don't alter this cell if you want accurate feedback\n",
        "#------------------------------------------------------------------------------#\n",
        "\n",
        "# check the p_val\n",
        "assert round(p_val, 2) == 0.01, 'Double-check the variables you returned; p_val should be the second in the list'\n",
        "print('Correct! Continue to the next question.')"
      ],
      "execution_count": 50,
      "outputs": [
        {
          "output_type": "stream",
          "text": [
            "Correct! Continue to the next question.\n"
          ],
          "name": "stdout"
        }
      ]
    },
    {
      "cell_type": "markdown",
      "metadata": {
        "id": "Tf7XPpBP6YqX"
      },
      "source": [
        "### 9) Interpret your p-value in 8) using the alpha = 0.05 significance level, and summarize your results in a sentence or two."
      ]
    },
    {
      "cell_type": "markdown",
      "metadata": {
        "id": "N5v6Sca8LDmy"
      },
      "source": [
        "Because the p value is smaller than the significance level (.05) we can reject the null hypothesis, suggesting that there may be a relationship between the two variables."
      ]
    },
    {
      "cell_type": "markdown",
      "metadata": {
        "id": "6fuCbToDLTO0"
      },
      "source": [
        "### 10) Create a side-by-side bar plot to illustrate the relationship between character sex and survival in slasher movies.  Sum up your overall results in a sentence or two."
      ]
    },
    {
      "cell_type": "code",
      "metadata": {
        "id": "Et5DtusY6maX",
        "outputId": "91c94b39-4698-44b3-9c3c-3092c423cb1a",
        "colab": {
          "base_uri": "https://localhost:8080/",
          "height": 298
        }
      },
      "source": [
        "# Plot time!\n",
        "import matplotlib.pyplot as plt\n",
        "slasher_survival = pd.crosstab(slasher_df['Gender'], slasher_df['Survival'], normalize='index')*100\n",
        "slasher_survival\n",
        "## your code here ##\n",
        "N= 2\n",
        "Died = (87,77)\n",
        "Survived = (13,23)\n",
        "ind = np.arange(N)\n",
        "width =.35\n",
        "fig, ax = plt.subplots()\n",
        "rects1 = ax.bar(ind, Died, width, color='g')\n",
        "rects2 = ax.bar(ind + width, Survived, width, color='b')\n",
        "ax.set_ylabel('Percentage')\n",
        "ax.set_title('Percentage of passengers that survived and died by gender')\n",
        "ax.set_xticks(ind + width/2)\n",
        "ax.set_xticklabels(('Male', 'Female'))\n",
        "ax.legend((rects1[0], rects2[0]),('Did not survive', 'survived'))"
      ],
      "execution_count": 53,
      "outputs": [
        {
          "output_type": "execute_result",
          "data": {
            "text/plain": [
              "<matplotlib.legend.Legend at 0x7f9eefb39e10>"
            ]
          },
          "metadata": {
            "tags": []
          },
          "execution_count": 53
        },
        {
          "output_type": "display_data",
          "data": {
            "image/png": "[encoded data removed]",
            "text/plain": [
              "<Figure size 432x288 with 1 Axes>"
            ]
          },
          "metadata": {
            "tags": [],
            "needs_background": "light"
          }
        }
      ]
    },
    {
      "cell_type": "markdown",
      "metadata": {
        "id": "Juj8P8RgLoiZ"
      },
      "source": [
        "Female characters are more likely to survive a slasher film than male characters, but both (unsuprisingly) don't have a good survival rate."
      ]
    }
  ]
}