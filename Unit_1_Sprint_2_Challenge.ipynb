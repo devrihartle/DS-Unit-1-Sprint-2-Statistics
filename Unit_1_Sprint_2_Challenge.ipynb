{
  "nbformat": 4,
  "nbformat_minor": 0,
  "metadata": {
    "colab": {
      "name": "Unit 1 Sprint 2 Challenge",
      "provenance": [],
      "collapsed_sections": [],
      "include_colab_link": true
    },
    "kernelspec": {
      "name": "python3",
      "display_name": "Python 3"
    }
  },
  "cells": [
    {
      "cell_type": "markdown",
      "metadata": {
        "id": "view-in-github",
        "colab_type": "text"
      },
      "source": [
        "<a href=\"https://colab.research.google.com/github/devrihartle/DS-Unit-1-Sprint-2-Statistics/blob/master/Unit_1_Sprint_2_Challenge.ipynb\" target=\"_parent\"><img src=\"https://colab.research.google.com/assets/colab-badge.svg\" alt=\"Open In Colab\"/></a>"
      ]
    },
    {
      "cell_type": "markdown",
      "metadata": {
        "id": "838Dmw1kM2LK"
      },
      "source": [
        "# Sprint 2 Challenge\n",
        "\n",
        "### Dataset description: \n",
        "\n",
        "Anyone who is a fan of detective TV shows has watched a scene where human remains are discovered and some sort of expert is called in to determine when the person died. But is this science fiction or science fact? Is it possible to use evidence from skeletal remains to determine how long a body has been buried (a decent approximation of how long the person has been dead)? \n",
        "\n",
        "Researchers sampled long bone material from bodies exhumed from coffin burials in two cemeteries in England. In each case, date of death and burial (and therefore interment time) was known. This data is given in the Longbones.csv dataset. \n",
        "\n",
        "You can find Longbones.csv here: https://raw.githubusercontent.com/Chelsea-Myers/Lambda-Intro/master/Longbones.csv\n",
        "\n",
        "**What can we learn about the bodies that were buried in the cemetery?**\n",
        "\n",
        "The variable names are:\n",
        "\n",
        "Site = Site ID, either Site 1 or Site 2\n",
        "\n",
        "Time = Interrment time in years\n",
        "\n",
        "Depth = Burial depth in ft.\n",
        "\n",
        "Lime = Burial with Quiklime (0 = No, 1 = Yes)\n",
        "\n",
        "Age = Age at time of death in years\n",
        "\n",
        "Nitro = Nitrogen composition of the long bones in g per 100g of bone.\n",
        "\n",
        "Oil = Oil contamination of the grave site (0 = No contamination, 1 = Oil contamination)\n",
        "\n",
        "Source: D.R. Jarvis (1997). \"Nitrogen Levels in Long Bones from Coffin Burials Interred for Periods of 26-90 Years,\" Forensic Science International, Vol85, pp199-208"
      ]
    },
    {
      "cell_type": "markdown",
      "metadata": {
        "id": "3hi4kQm1XhlO"
      },
      "source": [
        "###1) Import the data \n",
        "\n",
        "Import the Longbones.csv file and print the first 5 rows."
      ]
    },
    {
      "cell_type": "code",
      "metadata": {
        "id": "4lBeDadzeHKy"
      },
      "source": [
        "#Import the dataset\n",
        "\n",
        "import pandas as pd\n",
        "import numpy as np\n",
        "\n",
        "\n",
        "data_url = 'https://raw.githubusercontent.com/Chelsea-Myers/Lambda-Intro/master/Longbones.csv'\n",
        "\n",
        "df = pd.read_csv(data_url, skipinitialspace=True, header=0)\n",
        "\n"
      ],
      "execution_count": 1,
      "outputs": []
    },
    {
      "cell_type": "code",
      "metadata": {
        "id": "erthjvyReHap",
        "colab": {
          "base_uri": "https://localhost:8080/",
          "height": 204
        },
        "outputId": "825e1e6f-d62f-42ca-94ed-09c688e636c7"
      },
      "source": [
        "### YOUR CODE HERE ###\n",
        "df.head(5)"
      ],
      "execution_count": 2,
      "outputs": [
        {
          "output_type": "execute_result",
          "data": {
            "text/html": [
              "<div>\n",
              "<style scoped>\n",
              "    .dataframe tbody tr th:only-of-type {\n",
              "        vertical-align: middle;\n",
              "    }\n",
              "\n",
              "    .dataframe tbody tr th {\n",
              "        vertical-align: top;\n",
              "    }\n",
              "\n",
              "    .dataframe thead th {\n",
              "        text-align: right;\n",
              "    }\n",
              "</style>\n",
              "<table border=\"1\" class=\"dataframe\">\n",
              "  <thead>\n",
              "    <tr style=\"text-align: right;\">\n",
              "      <th></th>\n",
              "      <th>Site</th>\n",
              "      <th>Time</th>\n",
              "      <th>Depth</th>\n",
              "      <th>Lime</th>\n",
              "      <th>Age</th>\n",
              "      <th>Nitro</th>\n",
              "      <th>Oil</th>\n",
              "    </tr>\n",
              "  </thead>\n",
              "  <tbody>\n",
              "    <tr>\n",
              "      <th>0</th>\n",
              "      <td>1</td>\n",
              "      <td>88.5</td>\n",
              "      <td>7.0</td>\n",
              "      <td>1</td>\n",
              "      <td>NaN</td>\n",
              "      <td>3.88</td>\n",
              "      <td>1</td>\n",
              "    </tr>\n",
              "    <tr>\n",
              "      <th>1</th>\n",
              "      <td>1</td>\n",
              "      <td>88.5</td>\n",
              "      <td>NaN</td>\n",
              "      <td>1</td>\n",
              "      <td>NaN</td>\n",
              "      <td>4.00</td>\n",
              "      <td>1</td>\n",
              "    </tr>\n",
              "    <tr>\n",
              "      <th>2</th>\n",
              "      <td>1</td>\n",
              "      <td>85.2</td>\n",
              "      <td>7.0</td>\n",
              "      <td>1</td>\n",
              "      <td>NaN</td>\n",
              "      <td>3.69</td>\n",
              "      <td>1</td>\n",
              "    </tr>\n",
              "    <tr>\n",
              "      <th>3</th>\n",
              "      <td>1</td>\n",
              "      <td>71.8</td>\n",
              "      <td>7.6</td>\n",
              "      <td>1</td>\n",
              "      <td>65.0</td>\n",
              "      <td>3.88</td>\n",
              "      <td>0</td>\n",
              "    </tr>\n",
              "    <tr>\n",
              "      <th>4</th>\n",
              "      <td>1</td>\n",
              "      <td>70.6</td>\n",
              "      <td>7.5</td>\n",
              "      <td>1</td>\n",
              "      <td>42.0</td>\n",
              "      <td>3.53</td>\n",
              "      <td>0</td>\n",
              "    </tr>\n",
              "  </tbody>\n",
              "</table>\n",
              "</div>"
            ],
            "text/plain": [
              "   Site  Time  Depth  Lime   Age  Nitro  Oil\n",
              "0     1  88.5    7.0     1   NaN   3.88    1\n",
              "1     1  88.5    NaN     1   NaN   4.00    1\n",
              "2     1  85.2    7.0     1   NaN   3.69    1\n",
              "3     1  71.8    7.6     1  65.0   3.88    0\n",
              "4     1  70.6    7.5     1  42.0   3.53    0"
            ]
          },
          "metadata": {
            "tags": []
          },
          "execution_count": 2
        }
      ]
    },
    {
      "cell_type": "markdown",
      "metadata": {
        "id": "NKsOOVvoeLUR"
      },
      "source": [
        "###2) Check for missing data.\n",
        "\n",
        "Is there any missing data in the dataset?  If so, in what variable(s)?  "
      ]
    },
    {
      "cell_type": "code",
      "metadata": {
        "id": "-xCpxeU7xXFV",
        "colab": {
          "base_uri": "https://localhost:8080/"
        },
        "outputId": "13e0a011-8c3a-471e-b7b1-5d5be405cf1b"
      },
      "source": [
        "### YOUR CODE HERE ###\n",
        "df.isnull().sum()\n"
      ],
      "execution_count": 3,
      "outputs": [
        {
          "output_type": "execute_result",
          "data": {
            "text/plain": [
              "Site     0\n",
              "Time     0\n",
              "Depth    1\n",
              "Lime     0\n",
              "Age      7\n",
              "Nitro    0\n",
              "Oil      0\n",
              "dtype: int64"
            ]
          },
          "metadata": {
            "tags": []
          },
          "execution_count": 3
        }
      ]
    },
    {
      "cell_type": "markdown",
      "metadata": {
        "id": "qeVwTYT_eZhI"
      },
      "source": [
        "There is one null value in the Depth variable and 7 null values in the Age variable."
      ]
    },
    {
      "cell_type": "markdown",
      "metadata": {
        "id": "maUUy0b-efKn"
      },
      "source": [
        "### 3) Remove any rows with missing data from the dataset.  If there is no missing data, write \"No missing data\" in the answer section below."
      ]
    },
    {
      "cell_type": "code",
      "metadata": {
        "id": "iWxyaYvUxfcn",
        "colab": {
          "base_uri": "https://localhost:8080/"
        },
        "outputId": "7f4e90a9-45ea-4781-a058-73481469d80f"
      },
      "source": [
        "### YOUR CODE HERE ###\n",
        "#df = df.dropna(how='any',axis=0) \n",
        "df.isnull().sum()"
      ],
      "execution_count": 6,
      "outputs": [
        {
          "output_type": "execute_result",
          "data": {
            "text/plain": [
              "Site     0\n",
              "Time     0\n",
              "Depth    0\n",
              "Lime     0\n",
              "Age      0\n",
              "Nitro    0\n",
              "Oil      0\n",
              "dtype: int64"
            ]
          },
          "metadata": {
            "tags": []
          },
          "execution_count": 6
        }
      ]
    },
    {
      "cell_type": "markdown",
      "metadata": {
        "id": "FiwnkZHjg6Br"
      },
      "source": [
        "I properly removed the Null values"
      ]
    },
    {
      "cell_type": "markdown",
      "metadata": {
        "id": "DCu_DnqzfZCi"
      },
      "source": [
        "#Use the following information to answer questions 4) - 7) \n",
        "\n",
        "The mean nitrogen compostion in living individuals is 4.3g per 100g of bone.  \n",
        "\n",
        "We wish to use the Longbones sample to test the null hypothesis that the mean nitrogen composition per 100g of bone in the deceased is 4.3g (equal to that of living humans) vs the alternative hypothesis that the mean nitrogen composition per 100g of bone in the deceased is not 4.3g (not equal to that of living humans). \n",
        "\n"
      ]
    },
    {
      "cell_type": "markdown",
      "metadata": {
        "id": "TvZZhLlSjehS"
      },
      "source": [
        "###4) Using symbols and statistical language, write the null and alternative hypotheses outlined above."
      ]
    },
    {
      "cell_type": "markdown",
      "metadata": {
        "id": "qt0ug6daj96v"
      },
      "source": [
        "𝐻0:𝜇=4.3g\n",
        "The mean nitrogen composition per 100g of bone in the deceased is 4.3g\n",
        "𝐻𝑎:𝜇≠4.3g\n",
        " The mean nitrogen composition per 100g of bone in the deceased is not 4.3g. "
      ]
    },
    {
      "cell_type": "markdown",
      "metadata": {
        "id": "xG44zc__kCte"
      },
      "source": [
        "###5) What is the appropriate test for these hypotheses?  A t-test or a chi-square test?  Explain your answer in a sentence or two."
      ]
    },
    {
      "cell_type": "markdown",
      "metadata": {
        "id": "IbGjw2LlkQjx"
      },
      "source": [
        "A T-test since these values are not categorical, they are numerical."
      ]
    },
    {
      "cell_type": "markdown",
      "metadata": {
        "id": "9KnID825kQ-E"
      },
      "source": [
        "###6) Use a built-in Python function to conduct the statistical test you identified in 5).  Report your p-value.  Write the conclusion to your hypothesis test at the alpha = 0.05 significance level."
      ]
    },
    {
      "cell_type": "code",
      "metadata": {
        "id": "l7kbcK8RxqV0",
        "colab": {
          "base_uri": "https://localhost:8080/"
        },
        "outputId": "76e414ee-0b77-4c36-bd9a-51df2a4efc5e"
      },
      "source": [
        "### YOUR CODE HERE ###\n",
        "import scipy.stats as st\n",
        "\n",
        "t, pval = st.stats.ttest_1samp(df['Nitro'], 4.3)\n",
        "print(t)\n",
        "print(pval)"
      ],
      "execution_count": 8,
      "outputs": [
        {
          "output_type": "stream",
          "text": [
            "-16.525765821830365\n",
            "8.097649978903554e-18\n"
          ],
          "name": "stdout"
        }
      ]
    },
    {
      "cell_type": "markdown",
      "metadata": {
        "id": "sBW2ug1hkxdy"
      },
      "source": [
        "Because the P value is less than the significance level (.05), we can reject the null hypothesis and conclude that the alternative hypothesis is correct. This shows that the nitrogen levels in dead bones are different that the nitrogen levels in living boones. "
      ]
    },
    {
      "cell_type": "markdown",
      "metadata": {
        "id": "MsxjHEbRrQBZ"
      },
      "source": [
        "###7) Create a 95% confidence interval for the mean nitrogen compostion in the longbones of a deceased individual.  Interpret your confidence interval in a sentence or two."
      ]
    },
    {
      "cell_type": "code",
      "metadata": {
        "id": "atFLEgciP15T",
        "colab": {
          "base_uri": "https://localhost:8080/"
        },
        "outputId": "28cf632c-a75d-4fa2-e222-ea9a8eb8dfda"
      },
      "source": [
        "### YOUR CODE HERE ###\n",
        "from scipy.stats import t\n",
        "s_mean=df['Nitro'].mean()\n",
        "s_std=df['Nitro'].std()\n",
        "s_n=df['Nitro'].count()\n",
        "s_error=s_std/(s_n*(1/2))\n",
        "print(s_mean)\n",
        "print(s_std)\n",
        "print(s_n)\n",
        "print(s_error)\n",
        "t_star = t.ppf(0.975,df=34)\n",
        "print(t_star)\n",
        "\n",
        "\n",
        "t.interval(alpha =.95, df = 34, loc = s_mean, scale = s_error)"
      ],
      "execution_count": 13,
      "outputs": [
        {
          "output_type": "stream",
          "text": [
            "3.7960000000000003\n",
            "0.18042759668925043\n",
            "35\n",
            "0.010310148382242881\n",
            "2.032244509317718\n"
          ],
          "name": "stdout"
        },
        {
          "output_type": "execute_result",
          "data": {
            "text/plain": [
              "(3.7750472575599363, 3.816952742440064)"
            ]
          },
          "metadata": {
            "tags": []
          },
          "execution_count": 13
        }
      ]
    },
    {
      "cell_type": "markdown",
      "metadata": {
        "id": "m2ixBzDhP15X"
      },
      "source": [
        "I conclude that the population mean nitrogen composition in the longbones of a deceased individual is between 3.775 and 3.817"
      ]
    },
    {
      "cell_type": "markdown",
      "metadata": {
        "id": "KYpQ60qPfSpq"
      },
      "source": [
        "#Use the following information to answer questions 8) - 12) \n"
      ]
    },
    {
      "cell_type": "markdown",
      "metadata": {
        "id": "wXnTAE6zlKnN"
      },
      "source": [
        "The researchers also want to learn more about burial practices in the parts of England where the two cemetaries in the study were located.  They wish to determine if burials with Quicklime are associated with the burial region.  \n",
        "\n",
        "Their null hypothesis is that there is no association between cemetery site and burial with Quicklime.  The alternative hypothesis is that there is an association between cemetery site and burial with Quicklime.\n",
        "\n"
      ]
    },
    {
      "cell_type": "markdown",
      "metadata": {
        "id": "Nrh9-WJCnfi-"
      },
      "source": [
        "###8) Calculate the joint distribution of burial with Quicklime by burial site."
      ]
    },
    {
      "cell_type": "code",
      "metadata": {
        "id": "G6N_fzPXyF1J",
        "colab": {
          "base_uri": "https://localhost:8080/"
        },
        "outputId": "7a2f8412-f95e-4d55-cb15-034ba16022d2"
      },
      "source": [
        "### YOUR CODE HERE ###\n",
        "joint = pd.crosstab(df['Site'], df['Lime'], margins= True)\n",
        "print(joint)"
      ],
      "execution_count": 15,
      "outputs": [
        {
          "output_type": "stream",
          "text": [
            "Lime   0   1  All\n",
            "Site             \n",
            "1     14   5   19\n",
            "2      9   7   16\n",
            "All   23  12   35\n"
          ],
          "name": "stdout"
        }
      ]
    },
    {
      "cell_type": "markdown",
      "metadata": {
        "id": "tdESH5FcnvsR"
      },
      "source": [
        "###9) Calculate the conditional distribution of burial with Quicklime by burial site."
      ]
    },
    {
      "cell_type": "code",
      "metadata": {
        "id": "QkiPyt5ByJ7V",
        "colab": {
          "base_uri": "https://localhost:8080/"
        },
        "outputId": "18c18957-f475-4072-b079-71ba93e1b3a9"
      },
      "source": [
        "### YOUR CODE HERE ###\n",
        "joint = pd.crosstab(df['Site'], df['Lime'], normalize='index')*100\n",
        "print(joint)"
      ],
      "execution_count": 19,
      "outputs": [
        {
          "output_type": "stream",
          "text": [
            "Lime          0          1\n",
            "Site                      \n",
            "1     73.684211  26.315789\n",
            "2     56.250000  43.750000\n"
          ],
          "name": "stdout"
        }
      ]
    },
    {
      "cell_type": "markdown",
      "metadata": {
        "id": "qGCgkD_KoM9e"
      },
      "source": [
        "###10) What is the appropriate test for the hypotheses listed above?  A t-test or a chi-square test?  Explain your answer in a sentence or two."
      ]
    },
    {
      "cell_type": "markdown",
      "metadata": {
        "id": "-5fEpmowoQbs"
      },
      "source": [
        "A Chi square test. These are both categorical variables and you use Chi squared for categorical variables."
      ]
    },
    {
      "cell_type": "markdown",
      "metadata": {
        "id": "G2rwievuoTiy"
      },
      "source": [
        "###11) Conducte your hypothesis test and report your conclusion at the alpha = 0.05 significance level."
      ]
    },
    {
      "cell_type": "code",
      "metadata": {
        "id": "vQemmXEwyRRt",
        "colab": {
          "base_uri": "https://localhost:8080/"
        },
        "outputId": "a17c1835-77af-40c8-d3ba-322321229257"
      },
      "source": [
        "### YOUR CODE HERE ###\n",
        "from scipy.stats import chi2_contingency\n",
        "g, p, dof, expctd = chi2_contingency(pd.crosstab(df['Site'], df['Lime']))\n",
        "print(p)"
      ],
      "execution_count": 20,
      "outputs": [
        {
          "output_type": "stream",
          "text": [
            "0.4684181967877057\n"
          ],
          "name": "stdout"
        }
      ]
    },
    {
      "cell_type": "markdown",
      "metadata": {
        "id": "IoSAVaYRodPs"
      },
      "source": [
        "The p value is larger than the .05 significance level, thus, we fail to reject the null hypothesis, meaning that there is not enough evidence to show that there is a relationship between specific site and being buried with quicklime. "
      ]
    },
    {
      "cell_type": "markdown",
      "metadata": {
        "id": "vdzV0Sd-SAYP"
      },
      "source": [
        "###12) Conducte your hypothesis test and report your conclusion at the alpha = 0.05 significance level."
      ]
    },
    {
      "cell_type": "code",
      "metadata": {
        "id": "XJkwX2P3SEds"
      },
      "source": [
        "### YOUR CODE HERE ###"
      ],
      "execution_count": null,
      "outputs": []
    },
    {
      "cell_type": "markdown",
      "metadata": {
        "id": "OytU0QcdxBNF"
      },
      "source": [
        "Duplicate question. "
      ]
    },
    {
      "cell_type": "markdown",
      "metadata": {
        "id": "VPejVZDsF84m"
      },
      "source": [
        "###13) In a few sentences, describe the difference between Bayesian and Frequentist statistics."
      ]
    },
    {
      "cell_type": "markdown",
      "metadata": {
        "id": "88qgSn96xYkU"
      },
      "source": [
        "In bayesian statistics, a probability is assigned to a hypothesis while in Frequentist statistics a hypothesis is tested without being assigned a probability. Bayesian statistics relies on previously observed data while frequentist statistics relies on both previously observed and not yet observed data. "
      ]
    }
  ]
}